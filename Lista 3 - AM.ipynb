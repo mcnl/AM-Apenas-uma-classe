{
 "cells": [
  {
   "cell_type": "code",
   "execution_count": 139,
   "metadata": {},
   "outputs": [],
   "source": [
    "import warnings\n",
    "import sys\n",
    "import math\n",
    "import random\n",
    "import csv\n",
    "import numpy as np\n",
    "from sklearn.cluster import KMeans\n",
    "from sklearn.metrics.pairwise import euclidean_distances\n",
    "from sklearn.metrics import f1_score\n",
    "\n",
    "warnings.filterwarnings('ignore')\n",
    "database = []\n",
    "with open(\"cm1.csv\", newline='') as csvfile:\n",
    "    spamreader = csv.reader(csvfile)\n",
    "    for row in spamreader:\n",
    "        database.append(row)\n",
    "y = []\n",
    "del database[0]\n",
    "auxtrue = []\n",
    "auxfalse = []\n",
    "for i in range (0, len(database)):\n",
    "    if(database[i][21]=='true'):\n",
    "        auxtrue.append(database[i])\n",
    "database = auxtrue\n",
    "for i in range(0,len(database)):\n",
    "    y.append(database[i][len(database[i])-1])\n",
    "    del (database[i][21])"
   ]
  },
  {
   "cell_type": "code",
   "execution_count": 140,
   "metadata": {},
   "outputs": [],
   "source": [
    "X = np.array(database)"
   ]
  },
  {
   "cell_type": "code",
   "execution_count": 141,
   "metadata": {},
   "outputs": [],
   "source": [
    "kmeans = KMeans(n_clusters=1).fit(X)"
   ]
  },
  {
   "cell_type": "code",
   "execution_count": 142,
   "metadata": {},
   "outputs": [],
   "source": [
    "center = kmeans.cluster_centers_"
   ]
  },
  {
   "cell_type": "code",
   "execution_count": 143,
   "metadata": {},
   "outputs": [],
   "source": [
    "distancias = euclidean_distances(X, center)"
   ]
  },
  {
   "cell_type": "code",
   "execution_count": 144,
   "metadata": {},
   "outputs": [],
   "source": [
    "distancias = np.sort(distancias,axis=0)"
   ]
  },
  {
   "cell_type": "code",
   "execution_count": 145,
   "metadata": {},
   "outputs": [],
   "source": [
    "raio = np.sum(distancias)/len(distancias)"
   ]
  },
  {
   "cell_type": "code",
   "execution_count": 146,
   "metadata": {},
   "outputs": [
    {
     "data": {
      "text/plain": [
       "4218294.635284907"
      ]
     },
     "execution_count": 146,
     "metadata": {},
     "output_type": "execute_result"
    }
   ],
   "source": [
    "np.sum(distancias)"
   ]
  },
  {
   "cell_type": "code",
   "execution_count": 147,
   "metadata": {},
   "outputs": [],
   "source": [
    "database1 = []\n",
    "with open(\"cm1.csv\", newline='') as csvfile:\n",
    "    spamreader = csv.reader(csvfile)\n",
    "    for row in spamreader:\n",
    "        database1.append(row)\n",
    "y = []\n",
    "del database1[0]"
   ]
  },
  {
   "cell_type": "code",
   "execution_count": 148,
   "metadata": {},
   "outputs": [],
   "source": [
    "for i in range(0,len(database1)):\n",
    "    y.append(database1[i][len(database1[i])-1])\n",
    "    del (database1[i][21])"
   ]
  },
  {
   "cell_type": "code",
   "execution_count": 149,
   "metadata": {},
   "outputs": [],
   "source": [
    "distancias_teste = euclidean_distances(database1, center)"
   ]
  },
  {
   "cell_type": "code",
   "execution_count": 150,
   "metadata": {},
   "outputs": [],
   "source": [
    "y_teste = []"
   ]
  },
  {
   "cell_type": "code",
   "execution_count": 151,
   "metadata": {},
   "outputs": [],
   "source": [
    "raio = float(raio)"
   ]
  },
  {
   "cell_type": "code",
   "execution_count": 152,
   "metadata": {},
   "outputs": [],
   "source": [
    "for i in range(0,len(distancias_teste)):\n",
    "    if(distancias_teste[i] < raio):\n",
    "        y_teste.append(\"true\")\n",
    "    else:\n",
    "        y_teste.append(\"false\")"
   ]
  },
  {
   "cell_type": "code",
   "execution_count": 153,
   "metadata": {},
   "outputs": [],
   "source": [
    "def perf_measure(y, y1):\n",
    "    TP = 0\n",
    "    FP = 0\n",
    "    TN = 0\n",
    "    FN = 0\n",
    "    for i in range(len(y1)): \n",
    "        if y[i]==y[i]==\"true\":\n",
    "           TP += 1\n",
    "        if y[i]==\"true\" and y[i]!=y1[i]:\n",
    "           FP += 1\n",
    "        if y[i]==y1[i]==\"false\":\n",
    "           TN += 1\n",
    "        if y[i]==\"false\" and y[i]!=y1[i]:\n",
    "           FN += 1\n",
    "    return(TP, FP, TN, FN)"
   ]
  },
  {
   "cell_type": "code",
   "execution_count": 154,
   "metadata": {},
   "outputs": [],
   "source": [
    "fscore = f1_score(y, y_teste, average='micro')  "
   ]
  },
  {
   "cell_type": "code",
   "execution_count": 155,
   "metadata": {},
   "outputs": [],
   "source": [
    "true_positive, false_positive, true_negative, false_negative = perf_measure(y,y_teste)"
   ]
  },
  {
   "cell_type": "code",
   "execution_count": 156,
   "metadata": {},
   "outputs": [
    {
     "name": "stdout",
     "output_type": "stream",
     "text": [
      "A medida F1 é: 0.1227364185110664\n",
      "Falso Positivo e Positivo verdadeiro são respectivamente: 7, 49\n"
     ]
    }
   ],
   "source": [
    "print(\"A medida F1 é: \" + str(fscore))\n",
    "print(\"Falso Positivo e Positivo verdadeiro são respectivamente: \" + str(false_positive) + \", \" + str(true_positive))"
   ]
  },
  {
   "cell_type": "code",
   "execution_count": null,
   "metadata": {},
   "outputs": [],
   "source": []
  }
 ],
 "metadata": {
  "kernelspec": {
   "display_name": "Python 3",
   "language": "python",
   "name": "python3"
  },
  "language_info": {
   "codemirror_mode": {
    "name": "ipython",
    "version": 3
   },
   "file_extension": ".py",
   "mimetype": "text/x-python",
   "name": "python",
   "nbconvert_exporter": "python",
   "pygments_lexer": "ipython3",
   "version": "3.7.3"
  }
 },
 "nbformat": 4,
 "nbformat_minor": 2
}
